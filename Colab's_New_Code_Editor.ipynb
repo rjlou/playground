{
  "nbformat": 4,
  "nbformat_minor": 0,
  "metadata": {
    "colab": {
      "name": "Colab's New Code Editor",
      "provenance": [],
      "collapsed_sections": [],
      "include_colab_link": true
    },
    "kernelspec": {
      "display_name": "Python 3",
      "name": "python3"
    }
  },
  "cells": [
    {
      "cell_type": "markdown",
      "metadata": {
        "id": "view-in-github",
        "colab_type": "text"
      },
      "source": [
        "<a href=\"https://colab.research.google.com/github/rjlou/playground/blob/Python-for-Finance/Colab's_New_Code_Editor.ipynb\" target=\"_parent\"><img src=\"https://colab.research.google.com/assets/colab-badge.svg\" alt=\"Open In Colab\"/></a>"
      ]
    },
    {
      "cell_type": "code",
      "metadata": {
        "id": "Wb7zspHol38s",
        "colab_type": "code",
        "colab": {}
      },
      "source": [
        "\n",
        "a, b = 250, 250\n",
        "for _ in range(250, 260):\n",
        "  if a is not b:\n",
        "    break;\n",
        "  a += 1\n",
        "  b += 1\n",
        "\n",
        "print(a)"
      ],
      "execution_count": 0,
      "outputs": []
    }
  ]
}